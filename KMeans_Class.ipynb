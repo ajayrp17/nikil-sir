{
 "cells": [
  {
   "cell_type": "code",
   "execution_count": null,
   "id": "3c36eff7-41e0-47bb-816f-eec4580daff1",
   "metadata": {},
   "outputs": [],
   "source": [
    "import numpy as np\n",
    "import pandas as pd\n",
    "import matplotlib.pyplot as plt\n",
    "import seaborn as sns"
   ]
  },
  {
   "cell_type": "code",
   "execution_count": null,
   "id": "95c21ebb-75dd-4b20-8f49-f3638283e00e",
   "metadata": {},
   "outputs": [],
   "source": [
    "df = pd.read_csv('Iris1.csv')\n",
    "df"
   ]
  },
  {
   "cell_type": "code",
   "execution_count": null,
   "id": "4b563356-80ac-4835-b31b-1bd970835bf9",
   "metadata": {},
   "outputs": [],
   "source": [
    "df.drop('Id', axis = 1, inplace = True)"
   ]
  },
  {
   "cell_type": "code",
   "execution_count": null,
   "id": "8ed6a52e-ae78-4a65-8cbc-dd3c462e9b86",
   "metadata": {},
   "outputs": [],
   "source": [
    "df.head()"
   ]
  },
  {
   "cell_type": "markdown",
   "id": "424b38f9-9607-469f-8389-9e8b160d6e1a",
   "metadata": {},
   "source": [
    "# Basic Checks"
   ]
  },
  {
   "cell_type": "code",
   "execution_count": null,
   "id": "0258e2a7-5e13-4d61-9de6-71fa5d00c5af",
   "metadata": {},
   "outputs": [],
   "source": [
    "df.info()"
   ]
  },
  {
   "cell_type": "code",
   "execution_count": null,
   "id": "9ebd5360-5c36-42c6-975c-70117802cd0d",
   "metadata": {},
   "outputs": [],
   "source": [
    "df.describe()"
   ]
  },
  {
   "cell_type": "markdown",
   "id": "5b5cd8f8-7bd9-4dce-afe2-871dd1437492",
   "metadata": {},
   "source": [
    "# EDA"
   ]
  },
  {
   "cell_type": "markdown",
   "id": "aaf1b302-2175-43e9-9a42-a301d6472a57",
   "metadata": {},
   "source": [
    "### Univariate Anslysis"
   ]
  },
  {
   "cell_type": "code",
   "execution_count": null,
   "id": "18502917-eee7-4169-bf3e-cab1c0efac48",
   "metadata": {},
   "outputs": [],
   "source": [
    "df1 = df.drop('Species', axis = 1)"
   ]
  },
  {
   "cell_type": "code",
   "execution_count": null,
   "id": "8ef3ed9c-b400-44f4-8061-92d4880820e1",
   "metadata": {},
   "outputs": [],
   "source": [
    "df1.head()"
   ]
  },
  {
   "cell_type": "code",
   "execution_count": null,
   "id": "a906421b-b6cb-43ef-939f-7c45720caf0e",
   "metadata": {
    "scrolled": true
   },
   "outputs": [],
   "source": [
    "plt.figure(figsize=(10,10))\n",
    "plotnumber = 1\n",
    "\n",
    "for i in df1:\n",
    "    plt.subplot(2,2,plotnumber)\n",
    "    sns.histplot(x = df1[i])\n",
    "    plotnumber = plotnumber+1\n",
    "plt.tight_layout()"
   ]
  },
  {
   "cell_type": "markdown",
   "id": "cf14f47e-ada5-4883-a145-342e20fd66ab",
   "metadata": {},
   "source": [
    "Insights:"
   ]
  },
  {
   "cell_type": "markdown",
   "id": "bef17406-cbef-4b79-976a-74786649c49b",
   "metadata": {},
   "source": [
    "### Bivariate Analysis"
   ]
  },
  {
   "cell_type": "code",
   "execution_count": null,
   "id": "28f3e75d-811c-45bf-9553-d7d7b0a8241a",
   "metadata": {},
   "outputs": [],
   "source": [
    "plt.figure(figsize=(10,10))\n",
    "plotnumber = 1\n",
    "\n",
    "for i in df1:\n",
    "    plt.subplot(2,2,plotnumber)\n",
    "    sns.histplot(x = df1[i], hue = df['Species'])\n",
    "    plotnumber = plotnumber+1\n",
    "plt.tight_layout()"
   ]
  },
  {
   "cell_type": "markdown",
   "id": "fba17ef2-9f30-480d-a41b-6d49e4b19710",
   "metadata": {},
   "source": [
    "Insights:"
   ]
  },
  {
   "cell_type": "markdown",
   "id": "4b8d6420-9153-482a-9b1a-0a68251f7a5c",
   "metadata": {},
   "source": [
    "# Data Preprocessing"
   ]
  },
  {
   "cell_type": "code",
   "execution_count": null,
   "id": "61a60274-0563-4574-b8f9-e2f005b89cf8",
   "metadata": {},
   "outputs": [],
   "source": [
    "df.isnull().sum()"
   ]
  },
  {
   "cell_type": "markdown",
   "id": "d273d5e3-459d-4a81-8989-36e12478a56e",
   "metadata": {},
   "source": [
    "# Feature Selection"
   ]
  },
  {
   "cell_type": "code",
   "execution_count": null,
   "id": "c1c92077-b229-40e2-8785-7db0270dc273",
   "metadata": {},
   "outputs": [],
   "source": [
    "df1.corr()"
   ]
  },
  {
   "cell_type": "code",
   "execution_count": null,
   "id": "fdfa12ee-7e85-4246-a5cd-3fe1f68d3742",
   "metadata": {},
   "outputs": [],
   "source": [
    "sns.heatmap(df1.corr(), annot = True)"
   ]
  },
  {
   "cell_type": "markdown",
   "id": "8dff2c84-e244-49a2-8ef7-516f2e669774",
   "metadata": {},
   "source": [
    "# Model Creation"
   ]
  },
  {
   "cell_type": "code",
   "execution_count": null,
   "id": "35dc5d60-a546-4f68-9eae-ddc268dbe4ec",
   "metadata": {
    "scrolled": true
   },
   "outputs": [],
   "source": [
    "x = df.drop('Species', axis = 1)\n",
    "x"
   ]
  },
  {
   "cell_type": "code",
   "execution_count": null,
   "id": "a267579f-40e6-4ce1-a9de-e9838f9cb12a",
   "metadata": {},
   "outputs": [],
   "source": [
    "from sklearn.cluster import KMeans"
   ]
  },
  {
   "cell_type": "code",
   "execution_count": null,
   "id": "a215b46b-459a-4365-9daa-7fa8a7f32a7a",
   "metadata": {},
   "outputs": [],
   "source": [
    "model = KMeans(n_clusters=3)"
   ]
  },
  {
   "cell_type": "code",
   "execution_count": null,
   "id": "22f5b16b-4c91-48e1-a2f6-0b6918d3769d",
   "metadata": {},
   "outputs": [],
   "source": [
    "import warnings\n",
    "warnings.filterwarnings('ignore')"
   ]
  },
  {
   "cell_type": "code",
   "execution_count": null,
   "id": "a1b532a7-4a4d-47a9-9630-752a90acefe9",
   "metadata": {},
   "outputs": [],
   "source": [
    "model.fit(x)"
   ]
  },
  {
   "cell_type": "code",
   "execution_count": null,
   "id": "37362ef9-c988-4796-a23f-4dab71ee3dd6",
   "metadata": {
    "scrolled": true
   },
   "outputs": [],
   "source": [
    "x"
   ]
  },
  {
   "cell_type": "code",
   "execution_count": null,
   "id": "53163d64-8463-4d69-aa46-406edf55516b",
   "metadata": {},
   "outputs": [],
   "source": [
    "model.labels_"
   ]
  },
  {
   "cell_type": "code",
   "execution_count": null,
   "id": "d5c8a692-8e21-455a-af2e-8c9aafb8a562",
   "metadata": {},
   "outputs": [],
   "source": [
    "model.cluster_centers_"
   ]
  },
  {
   "cell_type": "code",
   "execution_count": null,
   "id": "8d716b1b-ca21-452d-af4f-ceda78b95cf5",
   "metadata": {},
   "outputs": [],
   "source": [
    "model.inertia_"
   ]
  },
  {
   "cell_type": "markdown",
   "id": "a54bc9e2-f2ed-43f6-b6e1-3e121eb00c36",
   "metadata": {},
   "source": [
    "# Elbow Technique"
   ]
  },
  {
   "cell_type": "code",
   "execution_count": null,
   "id": "069656e2-ee7d-4847-a018-4f0947bb6c25",
   "metadata": {},
   "outputs": [],
   "source": [
    "WCSS = []\n",
    "\n",
    "for i in range(1, 11):\n",
    "    model = KMeans(n_clusters=i)\n",
    "    model.fit(x)\n",
    "    WCSS.append(model.inertia_)"
   ]
  },
  {
   "cell_type": "code",
   "execution_count": null,
   "id": "fbb03099-2943-429a-89bc-3a24b284018d",
   "metadata": {},
   "outputs": [],
   "source": [
    "WCSS"
   ]
  },
  {
   "cell_type": "code",
   "execution_count": null,
   "id": "1376a32c-e8e8-4dea-b59b-ffbadd00068d",
   "metadata": {},
   "outputs": [],
   "source": [
    "plt.plot(range(1,11), WCSS, marker = '*')\n",
    "plt.xlabel('No. of clusters')\n",
    "plt.ylabel('WCSS')\n",
    "plt.title('Elbow Technique')\n",
    "plt.show()"
   ]
  },
  {
   "cell_type": "code",
   "execution_count": null,
   "id": "924dbc70-bdc7-496e-a6a4-ac1a578f6c87",
   "metadata": {},
   "outputs": [],
   "source": [
    "model = KMeans(n_clusters=3)"
   ]
  },
  {
   "cell_type": "code",
   "execution_count": null,
   "id": "ea541be3-4e85-4487-8bb4-24e43bca1320",
   "metadata": {},
   "outputs": [],
   "source": [
    "model.fit(x)"
   ]
  },
  {
   "cell_type": "code",
   "execution_count": null,
   "id": "c8cd0ab0-889d-4f58-872d-ca99a78789ba",
   "metadata": {
    "scrolled": true
   },
   "outputs": [],
   "source": [
    "model.labels_"
   ]
  },
  {
   "cell_type": "code",
   "execution_count": null,
   "id": "bb6c8b93-19ba-4d82-9e72-7305f09e99fa",
   "metadata": {},
   "outputs": [],
   "source": [
    "model.cluster_centers_"
   ]
  },
  {
   "cell_type": "code",
   "execution_count": null,
   "id": "c194f5e6-0776-4e46-991c-b8cbe86380dc",
   "metadata": {},
   "outputs": [],
   "source": [
    "model.inertia_"
   ]
  },
  {
   "cell_type": "markdown",
   "id": "d2804d5d-c4d0-4da2-a397-f1f8171ceea4",
   "metadata": {},
   "source": [
    "# Model Evaluation"
   ]
  },
  {
   "cell_type": "code",
   "execution_count": null,
   "id": "0f8fd398-885a-4948-8b46-fc60cd0feff8",
   "metadata": {},
   "outputs": [],
   "source": [
    "labels = model.labels_"
   ]
  },
  {
   "cell_type": "code",
   "execution_count": null,
   "id": "57e549be-757a-430c-ace8-f861403b7845",
   "metadata": {},
   "outputs": [],
   "source": [
    "from sklearn.metrics import silhouette_score"
   ]
  },
  {
   "cell_type": "code",
   "execution_count": null,
   "id": "d30df4ed-c516-4cee-a801-17f5c4c2d32c",
   "metadata": {},
   "outputs": [],
   "source": [
    "ss = silhouette_score(x, model.labels_)\n",
    "ss"
   ]
  }
 ],
 "metadata": {
  "kernelspec": {
   "display_name": "Python 3 (ipykernel)",
   "language": "python",
   "name": "python3"
  },
  "language_info": {
   "codemirror_mode": {
    "name": "ipython",
    "version": 3
   },
   "file_extension": ".py",
   "mimetype": "text/x-python",
   "name": "python",
   "nbconvert_exporter": "python",
   "pygments_lexer": "ipython3",
   "version": "3.11.7"
  }
 },
 "nbformat": 4,
 "nbformat_minor": 5
}
